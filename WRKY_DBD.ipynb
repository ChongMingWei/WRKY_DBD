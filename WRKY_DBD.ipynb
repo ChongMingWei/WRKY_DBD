{
 "cells": [
  {
   "cell_type": "markdown",
   "metadata": {},
   "source": [
    "# WRKY_DBD\n",
    "\n",
    "Column Name:\n",
    "* TF identifier (TF_ID)\n",
    "* Protein sequence identifier (Pseq_ID)\n",
    "* Protein primary sequence (Pseq)\n",
    "* DNA- binding domain sequence (DBD_seq)\n",
    "* Binding matrix identifier (matrix_ID)\n",
    "\n",
    "Note: Please don’t use matrix_ID as a feature."
   ]
  },
  {
   "cell_type": "code",
   "execution_count": 1,
   "metadata": {},
   "outputs": [],
   "source": [
    "import pandas as pd"
   ]
  },
  {
   "cell_type": "code",
   "execution_count": 2,
   "metadata": {},
   "outputs": [],
   "source": [
    "dfp = pd.read_csv('WRKY_info_20190507/WRKY_info_table_positive.txt', sep='\\t')\n",
    "dfn1 = pd.read_csv('WRKY_info_20190507/WRKY_info_table_negative_one.txt', sep='\\t')\n",
    "dfn2 = pd.read_csv('WRKY_info_20190507/WRKY_info_table_negative_two.txt', sep='\\t')\n",
    "dfn3 = pd.read_csv('WRKY_info_20190507/WRKY_info_table_negative_three.txt', sep='\\t')"
   ]
  },
  {
   "cell_type": "code",
   "execution_count": 3,
   "metadata": {},
   "outputs": [
    {
     "data": {
      "text/html": [
       "<div>\n",
       "<style scoped>\n",
       "    .dataframe tbody tr th:only-of-type {\n",
       "        vertical-align: middle;\n",
       "    }\n",
       "\n",
       "    .dataframe tbody tr th {\n",
       "        vertical-align: top;\n",
       "    }\n",
       "\n",
       "    .dataframe thead th {\n",
       "        text-align: right;\n",
       "    }\n",
       "</style>\n",
       "<table border=\"1\" class=\"dataframe\">\n",
       "  <thead>\n",
       "    <tr style=\"text-align: right;\">\n",
       "      <th></th>\n",
       "      <th>TF_ID</th>\n",
       "      <th>Pseq_ID</th>\n",
       "      <th>Pseq</th>\n",
       "      <th>DBD_seq</th>\n",
       "      <th>matrix_ID</th>\n",
       "    </tr>\n",
       "  </thead>\n",
       "  <tbody>\n",
       "    <tr>\n",
       "      <th>0</th>\n",
       "      <td>AT1G13960</td>\n",
       "      <td>TFprotseq_12499</td>\n",
       "      <td>MSEKEEAPSTSKSTGAPSRPTLSLPPRPFSEMFFNGGVGFSPGPMT...</td>\n",
       "      <td>ADDGYNWRKYGQKQVKGSEFPRSYYKCTNPGCPVKKKVERSLDGQV...</td>\n",
       "      <td>TF_motif_seq_0270</td>\n",
       "    </tr>\n",
       "    <tr>\n",
       "      <th>1</th>\n",
       "      <td>AT1G13960</td>\n",
       "      <td>TFprotseq_12499</td>\n",
       "      <td>MSEKEEAPSTSKSTGAPSRPTLSLPPRPFSEMFFNGGVGFSPGPMT...</td>\n",
       "      <td>ADDGYNWRKYGQKQVKGSEFPRSYYKCTNPGCPVKKKVERSLDGQV...</td>\n",
       "      <td>TF_motif_seq_0339</td>\n",
       "    </tr>\n",
       "    <tr>\n",
       "      <th>2</th>\n",
       "      <td>AT1G13960</td>\n",
       "      <td>TFprotseq_12499</td>\n",
       "      <td>MSEKEEAPSTSKSTGAPSRPTLSLPPRPFSEMFFNGGVGFSPGPMT...</td>\n",
       "      <td>ADDGYNWRKYGQKQVKGSEFPRSYYKCTNPGCPVKKKVERSLDGQV...</td>\n",
       "      <td>TFmatrixID_0449</td>\n",
       "    </tr>\n",
       "    <tr>\n",
       "      <th>3</th>\n",
       "      <td>AT1G13960</td>\n",
       "      <td>TFprotseq_12499</td>\n",
       "      <td>MSEKEEAPSTSKSTGAPSRPTLSLPPRPFSEMFFNGGVGFSPGPMT...</td>\n",
       "      <td>ADDGYNWRKYGQKQVKGSEFPRSYYKCTNPGCPVKKKVERSLDGQV...</td>\n",
       "      <td>TFmatrixID_0451</td>\n",
       "    </tr>\n",
       "    <tr>\n",
       "      <th>4</th>\n",
       "      <td>AT1G13960</td>\n",
       "      <td>TFprotseq_12499</td>\n",
       "      <td>MSEKEEAPSTSKSTGAPSRPTLSLPPRPFSEMFFNGGVGFSPGPMT...</td>\n",
       "      <td>ADDGYNWRKYGQKQVKGSEFPRSYYKCTNPGCPVKKKVERSLDGQV...</td>\n",
       "      <td>TFmatrixID_0465</td>\n",
       "    </tr>\n",
       "  </tbody>\n",
       "</table>\n",
       "</div>"
      ],
      "text/plain": [
       "       TF_ID          Pseq_ID  \\\n",
       "0  AT1G13960  TFprotseq_12499   \n",
       "1  AT1G13960  TFprotseq_12499   \n",
       "2  AT1G13960  TFprotseq_12499   \n",
       "3  AT1G13960  TFprotseq_12499   \n",
       "4  AT1G13960  TFprotseq_12499   \n",
       "\n",
       "                                                Pseq  \\\n",
       "0  MSEKEEAPSTSKSTGAPSRPTLSLPPRPFSEMFFNGGVGFSPGPMT...   \n",
       "1  MSEKEEAPSTSKSTGAPSRPTLSLPPRPFSEMFFNGGVGFSPGPMT...   \n",
       "2  MSEKEEAPSTSKSTGAPSRPTLSLPPRPFSEMFFNGGVGFSPGPMT...   \n",
       "3  MSEKEEAPSTSKSTGAPSRPTLSLPPRPFSEMFFNGGVGFSPGPMT...   \n",
       "4  MSEKEEAPSTSKSTGAPSRPTLSLPPRPFSEMFFNGGVGFSPGPMT...   \n",
       "\n",
       "                                             DBD_seq          matrix_ID  \n",
       "0  ADDGYNWRKYGQKQVKGSEFPRSYYKCTNPGCPVKKKVERSLDGQV...  TF_motif_seq_0270  \n",
       "1  ADDGYNWRKYGQKQVKGSEFPRSYYKCTNPGCPVKKKVERSLDGQV...  TF_motif_seq_0339  \n",
       "2  ADDGYNWRKYGQKQVKGSEFPRSYYKCTNPGCPVKKKVERSLDGQV...    TFmatrixID_0449  \n",
       "3  ADDGYNWRKYGQKQVKGSEFPRSYYKCTNPGCPVKKKVERSLDGQV...    TFmatrixID_0451  \n",
       "4  ADDGYNWRKYGQKQVKGSEFPRSYYKCTNPGCPVKKKVERSLDGQV...    TFmatrixID_0465  "
      ]
     },
     "execution_count": 3,
     "metadata": {},
     "output_type": "execute_result"
    }
   ],
   "source": [
    "dfp.head()"
   ]
  },
  {
   "cell_type": "markdown",
   "metadata": {},
   "source": [
    "## Parse .meme file"
   ]
  },
  {
   "cell_type": "code",
   "execution_count": 4,
   "metadata": {},
   "outputs": [],
   "source": [
    "inputfile = open('WRKY_info_20190507/All_matrices.meme', 'r')"
   ]
  },
  {
   "cell_type": "code",
   "execution_count": 5,
   "metadata": {},
   "outputs": [],
   "source": [
    "for i in range(9):\n",
    "    inputfile.readline()"
   ]
  },
  {
   "cell_type": "code",
   "execution_count": 6,
   "metadata": {},
   "outputs": [],
   "source": [
    "outputfile = open('WRKY_info_20190507/All_matrices_output.txt', 'w')"
   ]
  },
  {
   "cell_type": "code",
   "execution_count": 7,
   "metadata": {},
   "outputs": [
    {
     "data": {
      "text/plain": [
       "18"
      ]
     },
     "execution_count": 7,
     "metadata": {},
     "output_type": "execute_result"
    }
   ],
   "source": [
    "outputfile.write('matrix_ID\\tA\\tC\\tG\\tT\\n')"
   ]
  },
  {
   "cell_type": "code",
   "execution_count": 8,
   "metadata": {},
   "outputs": [],
   "source": [
    "for i in range(2588):\n",
    "    #s1 = inputfile.readline()\n",
    "    #t1 = s1.split()\n",
    "    #matrix_id = t1[1]\n",
    "    #print(repr(matrix_id))\n",
    "    matrix_id = inputfile.readline().rstrip('\\n')\n",
    "    if len(matrix_id) == 0:\n",
    "        break\n",
    "    inputfile.readline()\n",
    "    inputfile.readline()\n",
    "    while True:\n",
    "        s2 = inputfile.readline()\n",
    "        if s2 == '\\n':\n",
    "            break\n",
    "        outputfile.write(matrix_id + '\\t')\n",
    "        outputfile.write(s2)"
   ]
  },
  {
   "cell_type": "code",
   "execution_count": 9,
   "metadata": {},
   "outputs": [],
   "source": [
    "outputfile.close()\n",
    "inputfile.close()"
   ]
  },
  {
   "cell_type": "code",
   "execution_count": 14,
   "metadata": {},
   "outputs": [
    {
     "data": {
      "text/html": [
       "<div>\n",
       "<style scoped>\n",
       "    .dataframe tbody tr th:only-of-type {\n",
       "        vertical-align: middle;\n",
       "    }\n",
       "\n",
       "    .dataframe tbody tr th {\n",
       "        vertical-align: top;\n",
       "    }\n",
       "\n",
       "    .dataframe thead th {\n",
       "        text-align: right;\n",
       "    }\n",
       "</style>\n",
       "<table border=\"1\" class=\"dataframe\">\n",
       "  <thead>\n",
       "    <tr style=\"text-align: right;\">\n",
       "      <th></th>\n",
       "      <th>matrix_ID</th>\n",
       "      <th>A</th>\n",
       "      <th>C</th>\n",
       "      <th>G</th>\n",
       "      <th>T</th>\n",
       "    </tr>\n",
       "  </thead>\n",
       "  <tbody>\n",
       "    <tr>\n",
       "      <th>0</th>\n",
       "      <td>MOTIF TF_motif_seq_0001</td>\n",
       "      <td>1.0</td>\n",
       "      <td>0.0</td>\n",
       "      <td>0.0</td>\n",
       "      <td>0.0</td>\n",
       "    </tr>\n",
       "    <tr>\n",
       "      <th>1</th>\n",
       "      <td>MOTIF TF_motif_seq_0001</td>\n",
       "      <td>1.0</td>\n",
       "      <td>0.0</td>\n",
       "      <td>0.0</td>\n",
       "      <td>0.0</td>\n",
       "    </tr>\n",
       "    <tr>\n",
       "      <th>2</th>\n",
       "      <td>MOTIF TF_motif_seq_0001</td>\n",
       "      <td>0.0</td>\n",
       "      <td>1.0</td>\n",
       "      <td>0.0</td>\n",
       "      <td>0.0</td>\n",
       "    </tr>\n",
       "    <tr>\n",
       "      <th>3</th>\n",
       "      <td>MOTIF TF_motif_seq_0001</td>\n",
       "      <td>0.0</td>\n",
       "      <td>1.0</td>\n",
       "      <td>0.0</td>\n",
       "      <td>0.0</td>\n",
       "    </tr>\n",
       "    <tr>\n",
       "      <th>4</th>\n",
       "      <td>MOTIF TF_motif_seq_0001</td>\n",
       "      <td>0.0</td>\n",
       "      <td>0.0</td>\n",
       "      <td>0.0</td>\n",
       "      <td>1.0</td>\n",
       "    </tr>\n",
       "  </tbody>\n",
       "</table>\n",
       "</div>"
      ],
      "text/plain": [
       "                  matrix_ID    A    C    G    T\n",
       "0  MOTIF TF_motif_seq_0001   1.0  0.0  0.0  0.0\n",
       "1  MOTIF TF_motif_seq_0001   1.0  0.0  0.0  0.0\n",
       "2  MOTIF TF_motif_seq_0001   0.0  1.0  0.0  0.0\n",
       "3  MOTIF TF_motif_seq_0001   0.0  1.0  0.0  0.0\n",
       "4  MOTIF TF_motif_seq_0001   0.0  0.0  0.0  1.0"
      ]
     },
     "execution_count": 14,
     "metadata": {},
     "output_type": "execute_result"
    }
   ],
   "source": [
    "dfmeme = pd.read_csv('WRKY_info_20190507/All_matrices_output.txt', sep='\\t')\n",
    "dfmeme.head()"
   ]
  },
  {
   "cell_type": "code",
   "execution_count": null,
   "metadata": {},
   "outputs": [],
   "source": []
  },
  {
   "cell_type": "code",
   "execution_count": null,
   "metadata": {},
   "outputs": [],
   "source": []
  },
  {
   "cell_type": "code",
   "execution_count": null,
   "metadata": {},
   "outputs": [],
   "source": []
  }
 ],
 "metadata": {
  "kernelspec": {
   "display_name": "Python 3",
   "language": "python",
   "name": "python3"
  },
  "language_info": {
   "codemirror_mode": {
    "name": "ipython",
    "version": 3
   },
   "file_extension": ".py",
   "mimetype": "text/x-python",
   "name": "python",
   "nbconvert_exporter": "python",
   "pygments_lexer": "ipython3",
   "version": "3.7.3"
  }
 },
 "nbformat": 4,
 "nbformat_minor": 2
}
