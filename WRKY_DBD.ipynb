{
 "cells": [
  {
   "cell_type": "markdown",
   "metadata": {},
   "source": [
    "# WRKY_DBD\n",
    "\n",
    "## Domain Knowledge\n",
    "\n",
    "* Transcription factors (TFs, 轉錄因子) are proteins that controls the rate of transcription of genetic information from DNA to messenger RNA, by binding to a specific DNA sequence.\n",
    "\n",
    "* Transcription factors contain two domains:\n",
    "    * DNA-binding domain (DBD): attaches to specific sequences of DNA\n",
    "    * Activation domain (AD):\n",
    "\n",
    "* TFs are classified into families according to their DBDs.\n",
    "\n",
    "### Motivations\n",
    "\n",
    "* Only a handful of TFs have been studied their DNA binding patterns.\n",
    "    * only < 2% of eukaryotic TFs (M. T. Weirauch, et. al, 2014)\n",
    "    * About 57% of Arabidopsis thaliana TFs (Data from PlantPAN 3.0 and PlantTFDB v4.0)\n",
    "* Experimental protein structure determination is hard.\n",
    "\n",
    "### Problems\n",
    "\n",
    "* Whether we can predict **DNA binding sites** (DNA結合位點) by using polypeptide (多肽) sequences or DNA-binding domain?\n",
    "* Whether we can determine **the key amino acids**(必須胺基酸) essential for **DNA recognition** from known **TF-DNA pairs**?\n",
    "* Are there **unknown features** in polypeptide sequences which can be used to illustrate the interaction between TF and DNA?\n",
    "\n",
    "## Datasets descriptions\n",
    "\n",
    "### WRKY_info_table_positive.txt\n",
    "Column Name:\n",
    "* TF identifier (TF_ID):在第一個數字以前的，是該植物的品種縮寫；此處所有的TF皆是屬於WRKY家族的。\n",
    "* Protein sequence identifier (Pseq_ID):蛋白質序列的ID(同個TF_ID可能有一個以上的Pseq_ID)\n",
    "* Protein primary sequence (Pseq):蛋白質序列，對應Pseq_ID，有不同的胺基酸組成序列，每一個英文字母對應一種[胺基酸](http://www.bioinformatics.org/sms/iupac.html)\n",
    "* DNA- binding domain sequence (DBD_seq):蛋白質序列(Pseq)中，DBD的序列\n",
    "* Binding matrix identifier (matrix_ID):要進行轉錄的DNA片段\n",
    "\n",
    "Note: Please don’t use matrix_ID as a feature.\n",
    "\n",
    "### All_matrices_output.txt\n",
    "Column Name:\n",
    "* Binding matrix identifier (matrix_ID):要進行轉錄的DNA片段(基因)\n",
    "* A\n",
    "* C\n",
    "* G\n",
    "* T\n",
    "## Load datasets"
   ]
  },
  {
   "cell_type": "code",
   "execution_count": 1,
   "metadata": {},
   "outputs": [],
   "source": [
    "import pandas as pd"
   ]
  },
  {
   "cell_type": "code",
   "execution_count": 2,
   "metadata": {},
   "outputs": [],
   "source": [
    "dfp = pd.read_csv('WRKY_info_20190507/WRKY_info_table_positive.txt', sep='\\t')\n",
    "dfn1 = pd.read_csv('WRKY_info_20190507/WRKY_info_table_negative_one.txt', sep='\\t')\n",
    "dfn2 = pd.read_csv('WRKY_info_20190507/WRKY_info_table_negative_two.txt', sep='\\t')\n",
    "dfn3 = pd.read_csv('WRKY_info_20190507/WRKY_info_table_negative_three.txt', sep='\\t')"
   ]
  },
  {
   "cell_type": "code",
   "execution_count": 3,
   "metadata": {
    "scrolled": true
   },
   "outputs": [
    {
     "data": {
      "text/html": [
       "<div>\n",
       "<style scoped>\n",
       "    .dataframe tbody tr th:only-of-type {\n",
       "        vertical-align: middle;\n",
       "    }\n",
       "\n",
       "    .dataframe tbody tr th {\n",
       "        vertical-align: top;\n",
       "    }\n",
       "\n",
       "    .dataframe thead th {\n",
       "        text-align: right;\n",
       "    }\n",
       "</style>\n",
       "<table border=\"1\" class=\"dataframe\">\n",
       "  <thead>\n",
       "    <tr style=\"text-align: right;\">\n",
       "      <th></th>\n",
       "      <th>TF_ID</th>\n",
       "      <th>Pseq_ID</th>\n",
       "      <th>Pseq</th>\n",
       "      <th>DBD_seq</th>\n",
       "      <th>matrix_ID</th>\n",
       "    </tr>\n",
       "  </thead>\n",
       "  <tbody>\n",
       "    <tr>\n",
       "      <th>0</th>\n",
       "      <td>AT1G13960</td>\n",
       "      <td>TFprotseq_12499</td>\n",
       "      <td>MSEKEEAPSTSKSTGAPSRPTLSLPPRPFSEMFFNGGVGFSPGPMT...</td>\n",
       "      <td>ADDGYNWRKYGQKQVKGSEFPRSYYKCTNPGCPVKKKVERSLDGQV...</td>\n",
       "      <td>TF_motif_seq_0270</td>\n",
       "    </tr>\n",
       "    <tr>\n",
       "      <th>1</th>\n",
       "      <td>AT1G13960</td>\n",
       "      <td>TFprotseq_12499</td>\n",
       "      <td>MSEKEEAPSTSKSTGAPSRPTLSLPPRPFSEMFFNGGVGFSPGPMT...</td>\n",
       "      <td>ADDGYNWRKYGQKQVKGSEFPRSYYKCTNPGCPVKKKVERSLDGQV...</td>\n",
       "      <td>TF_motif_seq_0339</td>\n",
       "    </tr>\n",
       "    <tr>\n",
       "      <th>2</th>\n",
       "      <td>AT1G13960</td>\n",
       "      <td>TFprotseq_12499</td>\n",
       "      <td>MSEKEEAPSTSKSTGAPSRPTLSLPPRPFSEMFFNGGVGFSPGPMT...</td>\n",
       "      <td>ADDGYNWRKYGQKQVKGSEFPRSYYKCTNPGCPVKKKVERSLDGQV...</td>\n",
       "      <td>TFmatrixID_0449</td>\n",
       "    </tr>\n",
       "    <tr>\n",
       "      <th>3</th>\n",
       "      <td>AT1G13960</td>\n",
       "      <td>TFprotseq_12499</td>\n",
       "      <td>MSEKEEAPSTSKSTGAPSRPTLSLPPRPFSEMFFNGGVGFSPGPMT...</td>\n",
       "      <td>ADDGYNWRKYGQKQVKGSEFPRSYYKCTNPGCPVKKKVERSLDGQV...</td>\n",
       "      <td>TFmatrixID_0451</td>\n",
       "    </tr>\n",
       "    <tr>\n",
       "      <th>4</th>\n",
       "      <td>AT1G13960</td>\n",
       "      <td>TFprotseq_12499</td>\n",
       "      <td>MSEKEEAPSTSKSTGAPSRPTLSLPPRPFSEMFFNGGVGFSPGPMT...</td>\n",
       "      <td>ADDGYNWRKYGQKQVKGSEFPRSYYKCTNPGCPVKKKVERSLDGQV...</td>\n",
       "      <td>TFmatrixID_0465</td>\n",
       "    </tr>\n",
       "  </tbody>\n",
       "</table>\n",
       "</div>"
      ],
      "text/plain": [
       "       TF_ID          Pseq_ID  \\\n",
       "0  AT1G13960  TFprotseq_12499   \n",
       "1  AT1G13960  TFprotseq_12499   \n",
       "2  AT1G13960  TFprotseq_12499   \n",
       "3  AT1G13960  TFprotseq_12499   \n",
       "4  AT1G13960  TFprotseq_12499   \n",
       "\n",
       "                                                Pseq  \\\n",
       "0  MSEKEEAPSTSKSTGAPSRPTLSLPPRPFSEMFFNGGVGFSPGPMT...   \n",
       "1  MSEKEEAPSTSKSTGAPSRPTLSLPPRPFSEMFFNGGVGFSPGPMT...   \n",
       "2  MSEKEEAPSTSKSTGAPSRPTLSLPPRPFSEMFFNGGVGFSPGPMT...   \n",
       "3  MSEKEEAPSTSKSTGAPSRPTLSLPPRPFSEMFFNGGVGFSPGPMT...   \n",
       "4  MSEKEEAPSTSKSTGAPSRPTLSLPPRPFSEMFFNGGVGFSPGPMT...   \n",
       "\n",
       "                                             DBD_seq          matrix_ID  \n",
       "0  ADDGYNWRKYGQKQVKGSEFPRSYYKCTNPGCPVKKKVERSLDGQV...  TF_motif_seq_0270  \n",
       "1  ADDGYNWRKYGQKQVKGSEFPRSYYKCTNPGCPVKKKVERSLDGQV...  TF_motif_seq_0339  \n",
       "2  ADDGYNWRKYGQKQVKGSEFPRSYYKCTNPGCPVKKKVERSLDGQV...    TFmatrixID_0449  \n",
       "3  ADDGYNWRKYGQKQVKGSEFPRSYYKCTNPGCPVKKKVERSLDGQV...    TFmatrixID_0451  \n",
       "4  ADDGYNWRKYGQKQVKGSEFPRSYYKCTNPGCPVKKKVERSLDGQV...    TFmatrixID_0465  "
      ]
     },
     "execution_count": 3,
     "metadata": {},
     "output_type": "execute_result"
    }
   ],
   "source": [
    "dfp.head()"
   ]
  },
  {
   "cell_type": "markdown",
   "metadata": {},
   "source": [
    "### Parse .meme file"
   ]
  },
  {
   "cell_type": "code",
   "execution_count": 4,
   "metadata": {},
   "outputs": [],
   "source": [
    "inputfile = open('WRKY_info_20190507/All_matrices.meme', 'r')"
   ]
  },
  {
   "cell_type": "code",
   "execution_count": 5,
   "metadata": {},
   "outputs": [],
   "source": [
    "for i in range(9):\n",
    "    inputfile.readline()"
   ]
  },
  {
   "cell_type": "code",
   "execution_count": 6,
   "metadata": {},
   "outputs": [],
   "source": [
    "outputfile = open('WRKY_info_20190507/All_matrices_output.txt', 'w')"
   ]
  },
  {
   "cell_type": "code",
   "execution_count": 7,
   "metadata": {},
   "outputs": [
    {
     "data": {
      "text/plain": [
       "18"
      ]
     },
     "execution_count": 7,
     "metadata": {},
     "output_type": "execute_result"
    }
   ],
   "source": [
    "outputfile.write('matrix_ID\\tA\\tC\\tG\\tT\\n')"
   ]
  },
  {
   "cell_type": "code",
   "execution_count": 8,
   "metadata": {},
   "outputs": [],
   "source": [
    "while True:\n",
    "    s1 = inputfile.readline().rstrip('\\n')\n",
    "    \n",
    "    # if this is the eof\n",
    "    if len(s1) == 0:\n",
    "        break\n",
    "        \n",
    "    t1 = s1.split()\n",
    "    matrix_id = t1[1]\n",
    "\n",
    "    inputfile.readline()\n",
    "    inputfile.readline()\n",
    "    while True:\n",
    "        s2 = inputfile.readline()\n",
    "        if s2 == '\\n':\n",
    "            break\n",
    "        outputfile.write(matrix_id + '\\t')\n",
    "        outputfile.write(s2)"
   ]
  },
  {
   "cell_type": "code",
   "execution_count": 9,
   "metadata": {},
   "outputs": [],
   "source": [
    "outputfile.close()\n",
    "inputfile.close()"
   ]
  },
  {
   "cell_type": "code",
   "execution_count": 10,
   "metadata": {},
   "outputs": [
    {
     "data": {
      "text/html": [
       "<div>\n",
       "<style scoped>\n",
       "    .dataframe tbody tr th:only-of-type {\n",
       "        vertical-align: middle;\n",
       "    }\n",
       "\n",
       "    .dataframe tbody tr th {\n",
       "        vertical-align: top;\n",
       "    }\n",
       "\n",
       "    .dataframe thead th {\n",
       "        text-align: right;\n",
       "    }\n",
       "</style>\n",
       "<table border=\"1\" class=\"dataframe\">\n",
       "  <thead>\n",
       "    <tr style=\"text-align: right;\">\n",
       "      <th></th>\n",
       "      <th>matrix_ID</th>\n",
       "      <th>A</th>\n",
       "      <th>C</th>\n",
       "      <th>G</th>\n",
       "      <th>T</th>\n",
       "    </tr>\n",
       "  </thead>\n",
       "  <tbody>\n",
       "    <tr>\n",
       "      <th>0</th>\n",
       "      <td>TF_motif_seq_0001</td>\n",
       "      <td>1.0</td>\n",
       "      <td>0.0</td>\n",
       "      <td>0.0</td>\n",
       "      <td>0.0</td>\n",
       "    </tr>\n",
       "    <tr>\n",
       "      <th>1</th>\n",
       "      <td>TF_motif_seq_0001</td>\n",
       "      <td>1.0</td>\n",
       "      <td>0.0</td>\n",
       "      <td>0.0</td>\n",
       "      <td>0.0</td>\n",
       "    </tr>\n",
       "    <tr>\n",
       "      <th>2</th>\n",
       "      <td>TF_motif_seq_0001</td>\n",
       "      <td>0.0</td>\n",
       "      <td>1.0</td>\n",
       "      <td>0.0</td>\n",
       "      <td>0.0</td>\n",
       "    </tr>\n",
       "    <tr>\n",
       "      <th>3</th>\n",
       "      <td>TF_motif_seq_0001</td>\n",
       "      <td>0.0</td>\n",
       "      <td>1.0</td>\n",
       "      <td>0.0</td>\n",
       "      <td>0.0</td>\n",
       "    </tr>\n",
       "    <tr>\n",
       "      <th>4</th>\n",
       "      <td>TF_motif_seq_0001</td>\n",
       "      <td>0.0</td>\n",
       "      <td>0.0</td>\n",
       "      <td>0.0</td>\n",
       "      <td>1.0</td>\n",
       "    </tr>\n",
       "  </tbody>\n",
       "</table>\n",
       "</div>"
      ],
      "text/plain": [
       "           matrix_ID    A    C    G    T\n",
       "0  TF_motif_seq_0001  1.0  0.0  0.0  0.0\n",
       "1  TF_motif_seq_0001  1.0  0.0  0.0  0.0\n",
       "2  TF_motif_seq_0001  0.0  1.0  0.0  0.0\n",
       "3  TF_motif_seq_0001  0.0  1.0  0.0  0.0\n",
       "4  TF_motif_seq_0001  0.0  0.0  0.0  1.0"
      ]
     },
     "execution_count": 10,
     "metadata": {},
     "output_type": "execute_result"
    }
   ],
   "source": [
    "dfmeme = pd.read_csv('WRKY_info_20190507/All_matrices_output.txt', sep='\\t')\n",
    "dfmeme.head()"
   ]
  },
  {
   "cell_type": "markdown",
   "metadata": {},
   "source": [
    "## Analysis"
   ]
  },
  {
   "cell_type": "code",
   "execution_count": 11,
   "metadata": {},
   "outputs": [],
   "source": [
    "import logomaker as lm"
   ]
  },
  {
   "cell_type": "code",
   "execution_count": 12,
   "metadata": {},
   "outputs": [],
   "source": [
    "def draw_matrix(matrix_name):\n",
    "    m = dfmeme[dfmeme.matrix_ID == matrix_name].reset_index().drop(['matrix_ID', 'index'], axis=1)\n",
    "    m.index = m.index + 1\n",
    "    lm.Logo(m)"
   ]
  },
  {
   "cell_type": "code",
   "execution_count": 13,
   "metadata": {},
   "outputs": [
    {
     "data": {
      "text/html": [
       "<div>\n",
       "<style scoped>\n",
       "    .dataframe tbody tr th:only-of-type {\n",
       "        vertical-align: middle;\n",
       "    }\n",
       "\n",
       "    .dataframe tbody tr th {\n",
       "        vertical-align: top;\n",
       "    }\n",
       "\n",
       "    .dataframe thead th {\n",
       "        text-align: right;\n",
       "    }\n",
       "</style>\n",
       "<table border=\"1\" class=\"dataframe\">\n",
       "  <thead>\n",
       "    <tr style=\"text-align: right;\">\n",
       "      <th></th>\n",
       "      <th>matrix_ID</th>\n",
       "      <th>A</th>\n",
       "      <th>C</th>\n",
       "      <th>G</th>\n",
       "      <th>T</th>\n",
       "    </tr>\n",
       "  </thead>\n",
       "  <tbody>\n",
       "    <tr>\n",
       "      <th>11592</th>\n",
       "      <td>TF_motif_seq_0270</td>\n",
       "      <td>0.0</td>\n",
       "      <td>0.0</td>\n",
       "      <td>0.0</td>\n",
       "      <td>1.0</td>\n",
       "    </tr>\n",
       "    <tr>\n",
       "      <th>11593</th>\n",
       "      <td>TF_motif_seq_0270</td>\n",
       "      <td>0.0</td>\n",
       "      <td>0.0</td>\n",
       "      <td>1.0</td>\n",
       "      <td>0.0</td>\n",
       "    </tr>\n",
       "    <tr>\n",
       "      <th>11594</th>\n",
       "      <td>TF_motif_seq_0270</td>\n",
       "      <td>1.0</td>\n",
       "      <td>0.0</td>\n",
       "      <td>0.0</td>\n",
       "      <td>0.0</td>\n",
       "    </tr>\n",
       "    <tr>\n",
       "      <th>11595</th>\n",
       "      <td>TF_motif_seq_0270</td>\n",
       "      <td>0.0</td>\n",
       "      <td>1.0</td>\n",
       "      <td>0.0</td>\n",
       "      <td>0.0</td>\n",
       "    </tr>\n",
       "    <tr>\n",
       "      <th>11596</th>\n",
       "      <td>TF_motif_seq_0270</td>\n",
       "      <td>0.0</td>\n",
       "      <td>0.5</td>\n",
       "      <td>0.0</td>\n",
       "      <td>0.5</td>\n",
       "    </tr>\n",
       "  </tbody>\n",
       "</table>\n",
       "</div>"
      ],
      "text/plain": [
       "               matrix_ID    A    C    G    T\n",
       "11592  TF_motif_seq_0270  0.0  0.0  0.0  1.0\n",
       "11593  TF_motif_seq_0270  0.0  0.0  1.0  0.0\n",
       "11594  TF_motif_seq_0270  1.0  0.0  0.0  0.0\n",
       "11595  TF_motif_seq_0270  0.0  1.0  0.0  0.0\n",
       "11596  TF_motif_seq_0270  0.0  0.5  0.0  0.5"
      ]
     },
     "execution_count": 13,
     "metadata": {},
     "output_type": "execute_result"
    }
   ],
   "source": [
    "dfmeme[dfmeme.matrix_ID == 'TF_motif_seq_0270']"
   ]
  },
  {
   "cell_type": "code",
   "execution_count": 14,
   "metadata": {},
   "outputs": [
    {
     "data": {
      "image/png": "[encoded data removed]",
      "text/plain": [
       "<Figure size 720x180 with 1 Axes>"
      ]
     },
     "metadata": {
      "needs_background": "light"
     },
     "output_type": "display_data"
    }
   ],
   "source": [
    "draw_matrix('TF_motif_seq_0270')"
   ]
  },
  {
   "cell_type": "code",
   "execution_count": 15,
   "metadata": {
    "scrolled": true
   },
   "outputs": [
    {
     "data": {
      "text/html": [
       "<div>\n",
       "<style scoped>\n",
       "    .dataframe tbody tr th:only-of-type {\n",
       "        vertical-align: middle;\n",
       "    }\n",
       "\n",
       "    .dataframe tbody tr th {\n",
       "        vertical-align: top;\n",
       "    }\n",
       "\n",
       "    .dataframe thead th {\n",
       "        text-align: right;\n",
       "    }\n",
       "</style>\n",
       "<table border=\"1\" class=\"dataframe\">\n",
       "  <thead>\n",
       "    <tr style=\"text-align: right;\">\n",
       "      <th></th>\n",
       "      <th>TF_ID</th>\n",
       "      <th>Pseq_ID</th>\n",
       "      <th>Pseq</th>\n",
       "      <th>DBD_seq</th>\n",
       "      <th>matrix_ID</th>\n",
       "    </tr>\n",
       "  </thead>\n",
       "  <tbody>\n",
       "    <tr>\n",
       "      <th>0</th>\n",
       "      <td>AT1G13960</td>\n",
       "      <td>TFprotseq_12499</td>\n",
       "      <td>MSEKEEAPSTSKSTGAPSRPTLSLPPRPFSEMFFNGGVGFSPGPMT...</td>\n",
       "      <td>ADDGYNWRKYGQKQVKGSEFPRSYYKCTNPGCPVKKKVERSLDGQV...</td>\n",
       "      <td>TF_motif_seq_0270</td>\n",
       "    </tr>\n",
       "    <tr>\n",
       "      <th>6</th>\n",
       "      <td>AT1G13960</td>\n",
       "      <td>TFprotseq_12499</td>\n",
       "      <td>MSEKEEAPSTSKSTGAPSRPTLSLPPRPFSEMFFNGGVGFSPGPMT...</td>\n",
       "      <td>LDDGYRWRKYGQKVVKGNPYPRSYYKCTTPGCGVRKHVERAATDPK...</td>\n",
       "      <td>TF_motif_seq_0270</td>\n",
       "    </tr>\n",
       "    <tr>\n",
       "      <th>12</th>\n",
       "      <td>AT1G13960</td>\n",
       "      <td>TFprotseq_12500</td>\n",
       "      <td>MSEKEEAPSTSKSTGAPSRPTLSLPPRPFSEMFFNGGVGFSPGPMT...</td>\n",
       "      <td>ADDGYNWRKYGQKQVKGSEFPRSYYKCTNPGCPVKKKVERSLDGQV...</td>\n",
       "      <td>TF_motif_seq_0270</td>\n",
       "    </tr>\n",
       "    <tr>\n",
       "      <th>18</th>\n",
       "      <td>AT1G13960</td>\n",
       "      <td>TFprotseq_12500</td>\n",
       "      <td>MSEKEEAPSTSKSTGAPSRPTLSLPPRPFSEMFFNGGVGFSPGPMT...</td>\n",
       "      <td>LDDGYRWRKYGQKVVKGNPYPRSYYKCTTPGCGVRKHVERAATDPK...</td>\n",
       "      <td>TF_motif_seq_0270</td>\n",
       "    </tr>\n",
       "    <tr>\n",
       "      <th>24</th>\n",
       "      <td>AT1G18860</td>\n",
       "      <td>TFprotseq_12501</td>\n",
       "      <td>MDEAKEENRRLKSSLSKIKKDFDILQTQYNQLMAKHNEPTKFQSKG...</td>\n",
       "      <td>MNDGCQWRKYGQKIAKGNPCPRAYYRCTIAASCPVRKQVQRCSEDM...</td>\n",
       "      <td>TF_motif_seq_0270</td>\n",
       "    </tr>\n",
       "  </tbody>\n",
       "</table>\n",
       "</div>"
      ],
      "text/plain": [
       "        TF_ID          Pseq_ID  \\\n",
       "0   AT1G13960  TFprotseq_12499   \n",
       "6   AT1G13960  TFprotseq_12499   \n",
       "12  AT1G13960  TFprotseq_12500   \n",
       "18  AT1G13960  TFprotseq_12500   \n",
       "24  AT1G18860  TFprotseq_12501   \n",
       "\n",
       "                                                 Pseq  \\\n",
       "0   MSEKEEAPSTSKSTGAPSRPTLSLPPRPFSEMFFNGGVGFSPGPMT...   \n",
       "6   MSEKEEAPSTSKSTGAPSRPTLSLPPRPFSEMFFNGGVGFSPGPMT...   \n",
       "12  MSEKEEAPSTSKSTGAPSRPTLSLPPRPFSEMFFNGGVGFSPGPMT...   \n",
       "18  MSEKEEAPSTSKSTGAPSRPTLSLPPRPFSEMFFNGGVGFSPGPMT...   \n",
       "24  MDEAKEENRRLKSSLSKIKKDFDILQTQYNQLMAKHNEPTKFQSKG...   \n",
       "\n",
       "                                              DBD_seq          matrix_ID  \n",
       "0   ADDGYNWRKYGQKQVKGSEFPRSYYKCTNPGCPVKKKVERSLDGQV...  TF_motif_seq_0270  \n",
       "6   LDDGYRWRKYGQKVVKGNPYPRSYYKCTTPGCGVRKHVERAATDPK...  TF_motif_seq_0270  \n",
       "12  ADDGYNWRKYGQKQVKGSEFPRSYYKCTNPGCPVKKKVERSLDGQV...  TF_motif_seq_0270  \n",
       "18  LDDGYRWRKYGQKVVKGNPYPRSYYKCTTPGCGVRKHVERAATDPK...  TF_motif_seq_0270  \n",
       "24  MNDGCQWRKYGQKIAKGNPCPRAYYRCTIAASCPVRKQVQRCSEDM...  TF_motif_seq_0270  "
      ]
     },
     "execution_count": 15,
     "metadata": {},
     "output_type": "execute_result"
    }
   ],
   "source": [
    "seq_0270 = dfp[dfp.matrix_ID == 'TF_motif_seq_0270']\n",
    "seq_0270.head()"
   ]
  },
  {
   "cell_type": "code",
   "execution_count": 16,
   "metadata": {},
   "outputs": [
    {
     "data": {
      "text/plain": [
       "0     ADDGYNWRKYGQKQVKGSEFPRSYYKCTNPGCPVKKKVERSLDGQV...\n",
       "6     LDDGYRWRKYGQKVVKGNPYPRSYYKCTTPGCGVRKHVERAATDPK...\n",
       "12    ADDGYNWRKYGQKQVKGSEFPRSYYKCTNPGCPVKKKVERSLDGQV...\n",
       "18    LDDGYRWRKYGQKVVKGNPYPRSYYKCTTPGCGVRKHVERAATDPK...\n",
       "24    MNDGCQWRKYGQKIAKGNPCPRAYYRCTIAASCPVRKQVQRCSEDM...\n",
       "Name: DBD_seq, dtype: object"
      ]
     },
     "execution_count": 16,
     "metadata": {},
     "output_type": "execute_result"
    }
   ],
   "source": [
    "seq_0270_DBD = seq_0270['DBD_seq']\n",
    "seq_0270_DBD.head()"
   ]
  },
  {
   "cell_type": "markdown",
   "metadata": {},
   "source": [
    "嘗試尋找 Longest common substring ..."
   ]
  },
  {
   "cell_type": "code",
   "execution_count": 17,
   "metadata": {},
   "outputs": [],
   "source": [
    "def lcs(S,T):\n",
    "    m = len(S)\n",
    "    n = len(T)\n",
    "    counter = [[0]*(n+1) for x in range(m+1)]\n",
    "    longest = 0\n",
    "    lcs_set = set()\n",
    "    for i in range(m):\n",
    "        for j in range(n):\n",
    "            if S[i] == T[j]:\n",
    "                c = counter[i][j] + 1\n",
    "                counter[i+1][j+1] = c\n",
    "                if c > longest:\n",
    "                    lcs_set = set()\n",
    "                    longest = c\n",
    "                    lcs_set.add(S[i-c+1:i+1])\n",
    "                elif c == longest:\n",
    "                    lcs_set.add(S[i-c+1:i+1])\n",
    "\n",
    "    return lcs_set"
   ]
  },
  {
   "cell_type": "markdown",
   "metadata": {},
   "source": [
    "當我們將`c`愈調愈大時，結果不如預期..."
   ]
  },
  {
   "cell_type": "code",
   "execution_count": 18,
   "metadata": {},
   "outputs": [
    {
     "name": "stdout",
     "output_type": "stream",
     "text": [
      "ADDGYNWRKYGQKQVKGSEFPRSYYKCTNPGCPVKKKVERSLDGQVTEIIYKGQHNHEP\n"
     ]
    }
   ],
   "source": [
    "y = seq_0270_DBD[0]\n",
    "c = 0\n",
    "for x in seq_0270_DBD:\n",
    "    c = c + 1\n",
    "    if c == 2:\n",
    "        break\n",
    "    ret = lcs(y, x)\n",
    "    y = list(ret)[0]\n",
    "print(y)"
   ]
  },
  {
   "cell_type": "code",
   "execution_count": null,
   "metadata": {},
   "outputs": [],
   "source": []
  },
  {
   "cell_type": "code",
   "execution_count": null,
   "metadata": {},
   "outputs": [],
   "source": []
  },
  {
   "cell_type": "code",
   "execution_count": null,
   "metadata": {},
   "outputs": [],
   "source": []
  },
  {
   "cell_type": "code",
   "execution_count": null,
   "metadata": {},
   "outputs": [],
   "source": []
  }
 ],
 "metadata": {
  "kernelspec": {
   "display_name": "Python 3",
   "language": "python",
   "name": "python3"
  },
  "language_info": {
   "codemirror_mode": {
    "name": "ipython",
    "version": 3
   },
   "file_extension": ".py",
   "mimetype": "text/x-python",
   "name": "python",
   "nbconvert_exporter": "python",
   "pygments_lexer": "ipython3",
   "version": "3.7.3"
  }
 },
 "nbformat": 4,
 "nbformat_minor": 2
}
